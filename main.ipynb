{
 "cells": [
  {
   "cell_type": "code",
   "execution_count": 1,
   "id": "f2d7a34b-7695-4015-95cc-fefe6d8a28dd",
   "metadata": {},
   "outputs": [
    {
     "name": "stdout",
     "output_type": "stream",
     "text": [
      "Hello World\n"
     ]
    }
   ],
   "source": [
    "print(\"Hello World\")"
   ]
  },
  {
   "cell_type": "code",
   "execution_count": 4,
   "id": "4e9e171e-663c-42b3-aa99-e6528e508f89",
   "metadata": {},
   "outputs": [
    {
     "name": "stdout",
     "output_type": "stream",
     "text": [
      "100 + 200 = 300\n"
     ]
    }
   ],
   "source": [
    "## 함수 선언부\n",
    "def add_num(n1,n2):\n",
    "    return n1+n2\n",
    "\n",
    "## 전역 변수부\n",
    "num1, num2, res = 100,200,0\n",
    "\n",
    "\n",
    "##메인 코드\n",
    "res = add_num(num1, num2)\n",
    "print(num1, '+', num2, '=', res)"
   ]
  },
  {
   "cell_type": "code",
   "execution_count": null,
   "id": "aecee6a6-a980-459e-bf99-a47ea7d5ff29",
   "metadata": {},
   "outputs": [],
   "source": []
  }
 ],
 "metadata": {
  "kernelspec": {
   "display_name": "Python 3 (ipykernel)",
   "language": "python",
   "name": "python3"
  },
  "language_info": {
   "codemirror_mode": {
    "name": "ipython",
    "version": 3
   },
   "file_extension": ".py",
   "mimetype": "text/x-python",
   "name": "python",
   "nbconvert_exporter": "python",
   "pygments_lexer": "ipython3",
   "version": "3.11.7"
  }
 },
 "nbformat": 4,
 "nbformat_minor": 5
}
